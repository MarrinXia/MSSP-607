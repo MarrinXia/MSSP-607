{
  "cells": [
    {
      "cell_type": "markdown",
      "metadata": {
        "id": "view-in-github",
        "colab_type": "text"
      },
      "source": [
        "<a href=\"https://colab.research.google.com/github/MarrinXia/MSSP-607/blob/main/ConnectingGitHubRepository.ipynb\" target=\"_parent\"><img src=\"https://colab.research.google.com/assets/colab-badge.svg\" alt=\"Open In Colab\"/></a>"
      ]
    },
    {
      "cell_type": "code",
      "execution_count": null,
      "metadata": {
        "id": "sALhLrQzEndv"
      },
      "outputs": [],
      "source": []
    },
    {
      "cell_type": "markdown",
      "metadata": {
        "id": "0f856415"
      },
      "source": [
        "# Task\n",
        "Generate a Google Colab notebook that clones a GitHub repository using a stored access token, navigates to a specific Jupyter file within the repository, and reads its content."
      ]
    },
    {
      "cell_type": "markdown",
      "metadata": {
        "id": "4521d36e"
      },
      "source": [
        "## Store the github access token in colab secrets\n",
        "\n",
        "### Subtask:\n",
        "Ensure the user has stored their GitHub access token securely in Colab's Secrets Manager.\n"
      ]
    },
    {
      "cell_type": "markdown",
      "metadata": {
        "id": "5453df6e"
      },
      "source": [
        "**Reasoning**:\n",
        "The subtask requires instructing the user on how to store their GitHub access token in Colab's Secrets Manager. This involves providing clear steps for the user to follow within the Colab environment itself.\n",
        "\n"
      ]
    },
    {
      "cell_type": "code",
      "execution_count": null,
      "metadata": {
        "colab": {
          "base_uri": "https://localhost:8080/"
        },
        "id": "1d725553",
        "outputId": "11c65195-b61d-48de-8717-e43280bcd84f"
      },
      "outputs": [
        {
          "name": "stdout",
          "output_type": "stream",
          "text": [
            "Please follow the instructions above to securely store your GitHub access token in Colab's Secrets Manager.\n"
          ]
        }
      ],
      "source": [
        "# Instructions for storing your GitHub Personal Access Token (PAT) in Colab's Secrets Manager:\n",
        "\n",
        "# 1. Open the \"Secrets\" tab in the left sidebar of Google Colab. This is the key icon below the file and notebook icons.\n",
        "# 2. Click the \"+ New secret\" button.\n",
        "# 3. In the \"Name\" field, enter `github_token`.\n",
        "# 4. In the \"Value\" field, paste your GitHub Personal Access Token (PAT).\n",
        "# 5. **IMPORTANT:** Keep this token confidential. Never share your PAT publicly or commit it to a public repository.\n",
        "\n",
        "print(\"Please follow the instructions above to securely store your GitHub access token in Colab's Secrets Manager.\")"
      ]
    },
    {
      "cell_type": "markdown",
      "metadata": {
        "id": "d4f8a1c9"
      },
      "source": [
        "## Clone the github repository\n",
        "\n",
        "### Subtask:\n",
        "Generate code to clone the GitHub repository using the stored access token.\n"
      ]
    },
    {
      "cell_type": "markdown",
      "metadata": {
        "id": "edba45c4"
      },
      "source": [
        "**Reasoning**:\n",
        "Access the stored GitHub token, construct the cloning URL, and execute the git clone command.\n",
        "\n"
      ]
    },
    {
      "cell_type": "code",
      "execution_count": null,
      "metadata": {
        "colab": {
          "base_uri": "https://localhost:8080/"
        },
        "id": "9b1b8909",
        "outputId": "d5b554fa-6e93-4dff-9309-bb95ebe5cbab"
      },
      "outputs": [
        {
          "name": "stdout",
          "output_type": "stream",
          "text": [
            "Cloning into 'MSSP607'...\n",
            "remote: Enumerating objects: 25, done.\u001b[K\n",
            "remote: Counting objects: 100% (25/25), done.\u001b[K\n",
            "remote: Compressing objects: 100% (23/23), done.\u001b[K\n",
            "remote: Total 25 (delta 7), reused 0 (delta 0), pack-reused 0 (from 0)\u001b[K\n",
            "Receiving objects: 100% (25/25), 4.42 MiB | 5.20 MiB/s, done.\n",
            "Resolving deltas: 100% (7/7), done.\n"
          ]
        }
      ],
      "source": [
        "from google.colab import userdata\n",
        "import os\n",
        "\n",
        "github_token = userdata.get('Git_Key')\n",
        "owner = 'BC32022' # Replace with the GitHub repository owner\n",
        "repository = 'MSSP607' # Replace with the GitHub repository name\n",
        "\n",
        "clone_url = f'https://{github_token}@github.com/{owner}/{repository}.git'\n",
        "\n",
        "# Clone the repository\n",
        "!git clone {clone_url}\n",
        "\n",
        "# Navigate into the cloned repository directory (optional, but often useful)\n",
        "# os.chdir(repository)\n",
        "# print(f\"Changed directory to: {os.getcwd()}\")"
      ]
    },
    {
      "cell_type": "markdown",
      "metadata": {
        "id": "6c5dcaaa"
      },
      "source": [
        "## Clone the github repository\n",
        "\n",
        "### Subtask:\n",
        "Generate code to clone the GitHub repository using the stored access token.\n"
      ]
    },
    {
      "cell_type": "markdown",
      "metadata": {
        "id": "e79951fc"
      },
      "source": [
        "**Reasoning**:\n",
        "Import the necessary module and clone the repository using the stored token and provided repository details.\n",
        "\n"
      ]
    },
    {
      "cell_type": "code",
      "execution_count": null,
      "metadata": {
        "colab": {
          "base_uri": "https://localhost:8080/"
        },
        "id": "d0a12322",
        "outputId": "7a3027b1-e6a0-4bf6-e44e-c7d6f86b1388"
      },
      "outputs": [
        {
          "name": "stdout",
          "output_type": "stream",
          "text": [
            "Cloning into 'MSSP607'...\n",
            "remote: Write access to repository not granted.\n",
            "fatal: unable to access 'https://github.com/BC32022/MSSP607.git/': The requested URL returned error: 403\n"
          ]
        }
      ],
      "source": [
        "from google.colab import userdata\n",
        "\n",
        "github_token = userdata.get('Git_Key')\n",
        "owner = 'BC32022' # Replace with the GitHub repository owner\n",
        "repository = 'MSSP607' # Replace with the GitHub repository name\n",
        "\n",
        "clone_url = f'https://{github_token}@github.com/{owner}/{repository}.git'\n",
        "\n",
        "# Clone the repository\n",
        "!git clone {clone_url}"
      ]
    },
    {
      "cell_type": "markdown",
      "metadata": {
        "id": "52a03048"
      },
      "source": [
        "## Clone the github repository\n",
        "\n",
        "### Subtask:\n",
        "Retry cloning the GitHub repository using the stored access token, with a caveat about ensuring the token is stored correctly.\n"
      ]
    },
    {
      "cell_type": "markdown",
      "metadata": {
        "id": "16b7e76a"
      },
      "source": [
        "**Reasoning**:\n",
        "Import the necessary class and retrieve the GitHub token, then construct the clone URL and attempt to clone the repository.\n",
        "\n"
      ]
    },
    {
      "cell_type": "code",
      "execution_count": null,
      "metadata": {
        "colab": {
          "base_uri": "https://localhost:8080/"
        },
        "id": "e0153f23",
        "outputId": "ea569aed-5420-4cb3-d7f9-87bf936e6d7d"
      },
      "outputs": [
        {
          "output_type": "stream",
          "name": "stdout",
          "text": [
            "Cloning into 'MSSP-607'...\n",
            "remote: Enumerating objects: 12, done.\u001b[K\n",
            "remote: Counting objects: 100% (12/12), done.\u001b[K\n",
            "remote: Compressing objects: 100% (10/10), done.\u001b[K\n",
            "remote: Total 12 (delta 2), reused 0 (delta 0), pack-reused 0 (from 0)\u001b[K\n",
            "Receiving objects: 100% (12/12), 12.25 KiB | 2.04 MiB/s, done.\n",
            "Resolving deltas: 100% (2/2), done.\n"
          ]
        }
      ],
      "source": [
        "!git clone https://github.com/MarrinXia/MSSP-607.git\n",
        "\n"
      ]
    },
    {
      "cell_type": "markdown",
      "metadata": {
        "id": "23cff365"
      },
      "source": [
        "## Clone the github repository\n",
        "\n",
        "### Subtask:\n",
        "Retry cloning the GitHub repository using the stored access token, with a caveat about ensuring the token is stored correctly and providing instructions on how to do so if needed.\n"
      ]
    },
    {
      "cell_type": "markdown",
      "metadata": {
        "id": "06cfcfab"
      },
      "source": [
        "**Reasoning**:\n",
        "Retry cloning the GitHub repository using the stored access token, with a caveat about ensuring the token is stored correctly and providing instructions on how to do so if needed.\n",
        "\n"
      ]
    },
    {
      "cell_type": "code",
      "execution_count": null,
      "metadata": {
        "colab": {
          "base_uri": "https://localhost:8080/"
        },
        "id": "47df579f",
        "outputId": "50b1466e-7cb5-4808-e5f7-e842bb68dcff"
      },
      "outputs": [
        {
          "output_type": "stream",
          "name": "stdout",
          "text": [
            "fatal: destination path 'MSSP-607' already exists and is not an empty directory.\n"
          ]
        }
      ],
      "source": [
        "!git clone https://github.com/MarrinXia/MSSP-607.git\n",
        "\n"
      ]
    },
    {
      "cell_type": "markdown",
      "metadata": {
        "id": "ce156dbe"
      },
      "source": [
        "**Reasoning**:\n",
        "The previous code failed because `SecretNotFoundError` was not imported. Import the `SecretNotFoundError` from `google.colab.userdata` and retry cloning the repository, including the caveat about storing the token.\n",
        "\n"
      ]
    },
    {
      "cell_type": "code",
      "execution_count": null,
      "metadata": {
        "colab": {
          "base_uri": "https://localhost:8080/"
        },
        "id": "u_jK3eXRGLE8",
        "outputId": "b9eb8107-5db8-4812-d058-19e37a528a1e"
      },
      "outputs": [
        {
          "output_type": "stream",
          "name": "stdout",
          "text": [
            "fatal: destination path 'MSSP-607' already exists and is not an empty directory.\n"
          ]
        }
      ],
      "source": [
        "!git clone https://github.com/MarrinXia/MSSP-607.git\n"
      ]
    },
    {
      "cell_type": "markdown",
      "metadata": {
        "id": "fe857cd2"
      },
      "source": [
        "## Navigate to the jupyter file\n",
        "\n",
        "### Subtask:\n",
        "Generate code to change the current directory to the location of the Jupyter file within the cloned repository.\n"
      ]
    },
    {
      "cell_type": "markdown",
      "metadata": {
        "id": "293a27d2"
      },
      "source": [
        "**Reasoning**:\n",
        "Import the `os` module and change the current directory to the repository's root and then to the specified subdirectory.\n",
        "\n"
      ]
    },
    {
      "cell_type": "code",
      "execution_count": null,
      "metadata": {
        "colab": {
          "base_uri": "https://localhost:8080/"
        },
        "id": "45253ae1",
        "outputId": "ed58f5fc-bcb8-4383-ac12-f59db6aed6cf"
      },
      "outputs": [
        {
          "name": "stdout",
          "output_type": "stream",
          "text": [
            "Directory 'test' not found in 'MSSP607'.\n",
            "Current working directory: /content/MSSP607\n"
          ]
        }
      ],
      "source": [
        "import os\n",
        "\n",
        "# Define the repository name (should match the directory created by git clone)\n",
        "repository_name = 'MSSP607' # Replace with the actual repository name if different\n",
        "\n",
        "# Change the current working directory to the repository's root\n",
        "os.chdir(repository_name)\n",
        "\n",
        "# Define the path to the Jupyter file's directory relative to the repository root\n",
        "# Replace 'test' with the actual path to the directory containing your Jupyter file\n",
        "jupyter_file_directory = 'test' # Example: if your file is in repo_root/notebooks/my_notebook.ipynb, this should be 'notebooks'\n",
        "\n",
        "# Change the current working directory to the Jupyter file's directory\n",
        "# Check if the directory exists before changing to it\n",
        "if os.path.exists(jupyter_file_directory):\n",
        "    os.chdir(jupyter_file_directory)\n",
        "    print(f\"Changed directory to: {os.getcwd()}\")\n",
        "else:\n",
        "    print(f\"Directory '{jupyter_file_directory}' not found in '{repository_name}'.\")\n",
        "\n",
        "# Optional: Print the current working directory to confirm\n",
        "print(f\"Current working directory: {os.getcwd()}\")"
      ]
    },
    {
      "cell_type": "markdown",
      "metadata": {
        "id": "3eda9655"
      },
      "source": [
        "**Reasoning**:\n",
        "The previous attempt failed because the repository directory was not found. This is likely because the cloning step also failed in the previous execution. The current subtask is to change the directory, which requires the repository to be present. The previous steps were focused on cloning the repository and failed because the access token was not found. I will add the necessary code to ensure the repository is cloned before attempting to change the directory.\n",
        "\n"
      ]
    },
    {
      "cell_type": "code",
      "execution_count": null,
      "metadata": {
        "colab": {
          "base_uri": "https://localhost:8080/"
        },
        "id": "-24iqHMvGO8l",
        "outputId": "deb89183-627a-4939-bab8-f712e3625729"
      },
      "outputs": [
        {
          "name": "stdout",
          "output_type": "stream",
          "text": [
            "Cloning MSSP607...\n",
            "Cloning into 'MSSP607'...\n",
            "remote: Enumerating objects: 25, done.\u001b[K\n",
            "remote: Counting objects: 100% (25/25), done.\u001b[K\n",
            "remote: Compressing objects: 100% (23/23), done.\u001b[K\n",
            "remote: Total 25 (delta 7), reused 0 (delta 0), pack-reused 0 (from 0)\u001b[K\n",
            "Receiving objects: 100% (25/25), 4.42 MiB | 5.25 MiB/s, done.\n",
            "Resolving deltas: 100% (7/7), done.\n",
            "Directory 'MSSP607/Internet_Sales_Forecast).ipynb' not found in 'MSSP607'.\n",
            "Current working directory: /content/MSSP607/MSSP607/MSSP607/MSSP607\n"
          ]
        }
      ],
      "source": [
        "import os\n",
        "from google.colab import userdata\n",
        "from google.colab.userdata import SecretNotFoundError\n",
        "\n",
        "# Define the repository owner and name\n",
        "owner = 'BC32022'  # Replace with the GitHub repository owner\n",
        "repository = 'MSSP607'  # Replace with the GitHub repository name\n",
        "repository_name = repository # Ensure repository_name is set\n",
        "\n",
        "try:\n",
        "    # Retrieve the GitHub token from Colab secrets\n",
        "    github_token = userdata.get('Git_Key')\n",
        "\n",
        "    # Construct the clone URL\n",
        "    clone_url = f'https://{github_token}@github.com/{owner}/{repository}.git'\n",
        "\n",
        "    # Clone the repository only if the directory doesn't exist\n",
        "    if not os.path.exists(repository_name):\n",
        "        print(f\"Cloning {repository}...\")\n",
        "        !git clone {clone_url}\n",
        "    else:\n",
        "        print(f\"Repository '{repository_name}' already exists.\")\n",
        "\n",
        "\n",
        "    # Change the current working directory to the repository's root\n",
        "    os.chdir(repository_name)\n",
        "\n",
        "    # Define the path to the Jupyter file's directory relative to the repository root\n",
        "    # Replace 'test' with the actual path to the directory containing your Jupyter file\n",
        "    # For 'Spoon-Knife', let's use 'test' as an example subdirectory\n",
        "    jupyter_file_directory = 'MSSP607/Internet_Sales_Forecast).ipynb'\n",
        "\n",
        "    # Change the current working directory to the Jupyter file's directory\n",
        "    # Check if the directory exists before changing to it\n",
        "    if os.path.exists(jupyter_file_directory):\n",
        "        os.chdir(jupyter_file_directory)\n",
        "        print(f\"Changed directory to: {os.getcwd()}\")\n",
        "    else:\n",
        "        print(f\"Directory '{jupyter_file_directory}' not found in '{repository_name}'.\")\n",
        "\n",
        "    # Optional: Print the current working directory to confirm\n",
        "    print(f\"Current working directory: {os.getcwd()}\")\n",
        "\n",
        "except SecretNotFoundError:\n",
        "    print(\"SecretNotFoundError: 'github_token' not found in Colab Secrets.\")\n",
        "    print(\"\\nPlease store your GitHub Personal Access Token (PAT) in Colab's Secrets Manager.\")\n",
        "    print(\"1. Open the 'Secrets' tab (key icon) in the left sidebar.\")\n",
        "    print(\"2. Click '+ New secret'.\")\n",
        "    print(\"3. Set 'Name' to `github_token`.\")\n",
        "    print(\"4. Paste your PAT in the 'Value' field.\")\n",
        "    print(\"5. Remember to keep your token confidential.\")\n",
        "except FileNotFoundError as e:\n",
        "    print(f\"FileNotFoundError: {e}\")\n",
        "    print(f\"Could not change directory to '{repository_name}' or '{jupyter_file_directory}'. Ensure the repository was cloned successfully and the path is correct.\")\n"
      ]
    },
    {
      "cell_type": "markdown",
      "metadata": {
        "id": "b6d41698"
      },
      "source": [
        "## Read the jupyter file\n",
        "\n",
        "### Subtask:\n",
        "Generate code to read the content of the Jupyter file.\n"
      ]
    },
    {
      "cell_type": "markdown",
      "metadata": {
        "id": "241ef490"
      },
      "source": [
        "**Reasoning**:\n",
        "Define the Jupyter file name and read its content using Python's file handling, including error handling for file not found.\n",
        "\n"
      ]
    },
    {
      "cell_type": "code",
      "execution_count": null,
      "metadata": {
        "colab": {
          "base_uri": "https://localhost:8080/"
        },
        "id": "9093a9a7",
        "outputId": "75b703f4-1ef3-4b0e-85e5-fee6a881f32b"
      },
      "outputs": [
        {
          "output_type": "stream",
          "name": "stdout",
          "text": [
            "Successfully read: MSSP-607/Week2_practice.ipynb\n",
            "First 500 chars:\n",
            " {\n",
            "  \"nbformat\": 4,\n",
            "  \"nbformat_minor\": 0,\n",
            "  \"metadata\": {\n",
            "    \"colab\": {\n",
            "      \"provenance\": [],\n",
            "      \"authorship_tag\": \"ABX9TyO2HLhXmpPw2TOQX73LOMap\",\n",
            "      \"include_colab_link\": true\n",
            "    },\n",
            "    \"kernelspec\": {\n",
            "      \"name\": \"python3\",\n",
            "      \"display_name\": \"Python 3\"\n",
            "    },\n",
            "    \"language_info\": {\n",
            "      \"name\": \"python\"\n",
            "    }\n",
            "  },\n",
            "  \"cells\": [\n",
            "    {\n",
            "      \"cell_type\": \"markdown\",\n",
            "      \"metadata\": {\n",
            "        \"id\": \"view-in-github\",\n",
            "        \"colab_type\": \"text\"\n",
            "      },\n",
            "      \"source\": [\n",
            "        ...\n"
          ]
        }
      ],
      "source": [
        "# 任选一个实际存在的文件名\n",
        "jupyter_file_name = 'MSSP-607/Week2_practice.ipynb'\n",
        "\n",
        "try:\n",
        "    with open(jupyter_file_name, 'r', encoding='utf-8') as f:\n",
        "        content = f.read()\n",
        "    print(f\"Successfully read: {jupyter_file_name}\")\n",
        "    print(\"First 500 chars:\\n\", content[:500], \"...\")\n",
        "except FileNotFoundError:\n",
        "    print(f\"Not found: {jupyter_file_name}\")\n",
        "\n"
      ]
    },
    {
      "cell_type": "markdown",
      "metadata": {
        "id": "0fa49e5b"
      },
      "source": [
        "## Summary:\n",
        "\n",
        "### Data Analysis Key Findings\n",
        "\n",
        "*   The initial attempts to clone the GitHub repository failed due to the absence of the `github_token` secret in Colab Secrets, resulting in `SecretNotFoundError`.\n",
        "*   Subsequent steps attempted to handle the `SecretNotFoundError` by providing instructions on how to store the GitHub Personal Access Token (PAT) in Colab Secrets.\n",
        "*   The step to navigate to the Jupyter file's directory also failed because the repository was not successfully cloned, leading to `FileNotFoundError`.\n",
        "*   The final step to read the Jupyter file content failed with `FileNotFoundError` because the file was not present, as the preceding cloning and navigation steps were unsuccessful.\n",
        "\n",
        "### Insights or Next Steps\n",
        "\n",
        "*   Ensure the GitHub Personal Access Token is correctly stored in Colab Secrets under the name `github_token` before running the notebook.\n",
        "*   Verify the correctness of the repository owner, repository name, and the path to the Jupyter file within the repository.\n"
      ]
    },
    {
      "cell_type": "code",
      "source": [
        "# 查看当前目录\n",
        "!pwd\n",
        "\n",
        "# 列出当前目录下的所有文件\n",
        "!ls -lh\n",
        "\n",
        "# 列出克隆下来的仓库里的文件\n",
        "!ls -lh MSSP-607\n"
      ],
      "metadata": {
        "colab": {
          "base_uri": "https://localhost:8080/"
        },
        "id": "HMcyXk5R0Um7",
        "outputId": "3320dff5-5009-4feb-de3a-8d1e9460da1d"
      },
      "execution_count": null,
      "outputs": [
        {
          "output_type": "stream",
          "name": "stdout",
          "text": [
            "/content\n",
            "total 8.0K\n",
            "drwxr-xr-x 3 root root 4.0K Sep 18 21:48 MSSP-607\n",
            "drwxr-xr-x 1 root root 4.0K Sep 16 13:40 sample_data\n",
            "total 64K\n",
            "-rw-r--r-- 1 root root  31K Sep 18 21:48 'ConnectingGitHubRepository_(1).ipynb'\n",
            "-rw-r--r-- 1 root root  17K Sep 18 21:48  Participation_Activity_Week1_Exercises.ipynb\n",
            "-rw-r--r-- 1 root root   10 Sep 18 21:48  README.md\n",
            "-rw-r--r-- 1 root root 6.9K Sep 18 21:48  Week2_practice.ipynb\n"
          ]
        }
      ]
    }
  ],
  "metadata": {
    "colab": {
      "provenance": [],
      "include_colab_link": true
    },
    "kernelspec": {
      "display_name": "Python 3",
      "name": "python3"
    },
    "language_info": {
      "name": "python"
    }
  },
  "nbformat": 4,
  "nbformat_minor": 0
}