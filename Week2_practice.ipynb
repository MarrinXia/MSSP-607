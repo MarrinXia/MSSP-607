{
  "nbformat": 4,
  "nbformat_minor": 0,
  "metadata": {
    "colab": {
      "provenance": [],
      "authorship_tag": "ABX9TyO2HLhXmpPw2TOQX73LOMap",
      "include_colab_link": true
    },
    "kernelspec": {
      "name": "python3",
      "display_name": "Python 3"
    },
    "language_info": {
      "name": "python"
    }
  },
  "cells": [
    {
      "cell_type": "markdown",
      "metadata": {
        "id": "view-in-github",
        "colab_type": "text"
      },
      "source": [
        "<a href=\"https://colab.research.google.com/github/MarrinXia/MSSP-607/blob/main/Week2_practice.ipynb\" target=\"_parent\"><img src=\"https://colab.research.google.com/assets/colab-badge.svg\" alt=\"Open In Colab\"/></a>"
      ]
    },
    {
      "cell_type": "code",
      "source": [
        "\n",
        "# 2a. Create a variable called 'spam' that contains [2, 4, 6, 8, 10]\n",
        "spam = [2, 4, 6, 8, 10]\n",
        "print(\"Original spam list:\", spam)\n",
        "\n",
        "# 2b. Assign the value of 'hello' as the third value in the list\n",
        "spam[2] = 'hello'  # Index 2 is the third position (0-indexed)\n",
        "print(\"Modified spam list:\", spam)"
      ],
      "metadata": {
        "colab": {
          "base_uri": "https://localhost:8080/"
        },
        "id": "hXfQERBm5QDR",
        "outputId": "c9c490fe-4d80-4d3e-95ce-1722f5de95c2"
      },
      "execution_count": 1,
      "outputs": [
        {
          "output_type": "stream",
          "name": "stdout",
          "text": [
            "Original spam list: [2, 4, 6, 8, 10]\n",
            "Modified spam list: [2, 4, 'hello', 8, 10]\n"
          ]
        }
      ]
    },
    {
      "cell_type": "code",
      "source": [
        "# 3a. Create a variable called 'letters' that contains ['a', 'b', 'c', 'd']\n",
        "letters = ['a', 'b', 'c', 'd']\n",
        "print(\"Letters list:\", letters)\n",
        "\n",
        "# 3b. What does letters[int(int('3'*2)//11)] evaluate to?\n",
        "result_b = letters[int(int('3'*2)//11)]\n",
        "print(f\"letters[int(int('3'*2)//11)] = {result_b}\")\n",
        "# Explanation: '3'*2 creates '33', int('33') = 33, 33//11 = 3, int(3) = 3\n",
        "# So letters[3] = 'd' (the fourth element, since indexing starts at 0)\n",
        "\n",
        "# 3c. What does letters[-1] evaluate to?\n",
        "result_c = letters[-1]\n",
        "print(f\"letters[-1] = {result_c}\")\n",
        "# Explanation: -1 refers to the last element in the list, which is 'd'\n",
        "\n",
        "# 3d. What does letters[:2] evaluate to?\n",
        "result_d = letters[:2]\n",
        "print(f\"letters[:2] = {result_d}\")\n",
        "# Explanation: [:2] creates a slice from the beginning up to (but not including) index 2\n",
        "# This gives us elements at indices 0 and 1, which are ['a', 'b']\n",
        "\n",
        "# How to get the tuple form of a list\n",
        "my_list = ['apple', 'banana', 'cherry']\n",
        "my_tuple = tuple(my_list)\n",
        "print(\"Original list:\", my_list)\n",
        "print(\"Converted to tuple:\", my_tuple)\n",
        "print(\"Type of my_tuple:\", type(my_tuple))\n",
        "\n",
        "# How to get a list from a tuple\n",
        "original_tuple = ('x', 'y', 'z')\n",
        "converted_list = list(original_tuple)\n",
        "print(\"\\nOriginal tuple:\", original_tuple)\n",
        "print(\"Converted to list:\", converted_list)\n",
        "print(\"Type of converted_list:\", type(converted_list))"
      ],
      "metadata": {
        "colab": {
          "base_uri": "https://localhost:8080/"
        },
        "id": "PbNxoklQ5lZJ",
        "outputId": "36a7d268-a6d8-461d-b69b-0aa34da54668"
      },
      "execution_count": 2,
      "outputs": [
        {
          "output_type": "stream",
          "name": "stdout",
          "text": [
            "Letters list: ['a', 'b', 'c', 'd']\n",
            "letters[int(int('3'*2)//11)] = d\n",
            "letters[-1] = d\n",
            "letters[:2] = ['a', 'b']\n",
            "Original list: ['apple', 'banana', 'cherry']\n",
            "Converted to tuple: ('apple', 'banana', 'cherry')\n",
            "Type of my_tuple: <class 'tuple'>\n",
            "\n",
            "Original tuple: ('x', 'y', 'z')\n",
            "Converted to list: ['x', 'y', 'z']\n",
            "Type of converted_list: <class 'list'>\n"
          ]
        }
      ]
    },
    {
      "cell_type": "code",
      "source": [
        "def comma_code(items):\n",
        "    \"\"\"\n",
        "    Takes a list and returns a string with all items separated by commas and spaces,\n",
        "    with 'and' inserted before the last item.\n",
        "\n",
        "    Args:\n",
        "        items: A list of items to be formatted\n",
        "\n",
        "    Returns:\n",
        "        A formatted string with commas and 'and' before the last item\n",
        "    \"\"\"\n",
        "    if len(items) == 0:\n",
        "        return \"\"\n",
        "    elif len(items) == 1:\n",
        "        return str(items[0])\n",
        "    elif len(items) == 2:\n",
        "        return f\"{items[0]} and {items[1]}\"\n",
        "    else:\n",
        "        # Join all items except the last with commas, then add 'and' before the last item\n",
        "        return \", \".join(str(item) for item in items[:-1]) + \", and \" + str(items[-1])"
      ],
      "metadata": {
        "id": "zj5N4-1L5pZm"
      },
      "execution_count": 3,
      "outputs": []
    },
    {
      "cell_type": "code",
      "source": [
        "# Test the function with the provided example\n",
        "spam = ['apples', 'bananas', 'tofu', 'cats']\n",
        "result = comma_code(spam)\n",
        "print(\"spam list:\", spam)\n",
        "print(\"Formatted result:\", result)\n",
        "\n",
        "# Test with other examples\n",
        "print(\"\\nAdditional tests:\")\n",
        "print(\"Empty list:\", comma_code([]))\n",
        "print(\"One item:\", comma_code(['apple']))\n",
        "print(\"Two items:\", comma_code(['apple', 'banana']))\n",
        "print(\"Three items:\", comma_code(['red', 'blue', 'green']))\n",
        "print(\"Numbers:\", comma_code([1, 2, 3, 4, 5]))"
      ],
      "metadata": {
        "colab": {
          "base_uri": "https://localhost:8080/"
        },
        "id": "eKxxg2N153Zv",
        "outputId": "8f9da741-88b8-4ec1-c1fe-36e842797dbf"
      },
      "execution_count": 4,
      "outputs": [
        {
          "output_type": "stream",
          "name": "stdout",
          "text": [
            "spam list: ['apples', 'bananas', 'tofu', 'cats']\n",
            "Formatted result: apples, bananas, tofu, and cats\n",
            "\n",
            "Additional tests:\n",
            "Empty list: \n",
            "One item: apple\n",
            "Two items: apple and banana\n",
            "Three items: red, blue, and green\n",
            "Numbers: 1, 2, 3, 4, and 5\n"
          ]
        }
      ]
    }
  ]
}