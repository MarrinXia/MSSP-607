{
  "cells": [
    {
      "cell_type": "markdown",
      "metadata": {
        "id": "view-in-github",
        "colab_type": "text"
      },
      "source": [
        "<a href=\"https://colab.research.google.com/github/MarrinXia/MSSP-607/blob/main/Participation_Activity_Week1_Exercises.ipynb\" target=\"_parent\"><img src=\"https://colab.research.google.com/assets/colab-badge.svg\" alt=\"Open In Colab\"/></a>"
      ]
    },
    {
      "cell_type": "markdown",
      "metadata": {
        "id": "iFa8zsf6z_EC"
      },
      "source": [
        "# Coding exercises\n",
        "Exercises 1-3 are thought exercises that don't require coding.\n",
        "\n",
        "1. Explore the Jupyter Lab interface and look at some of the shortcuts available. Don't worry about memorizing them now (eventually they will become second nature and save you a lot of time), just get comfortable using notebooks.\n",
        "\n",
        "2. Are all data normally distributed?\n",
        "\n",
        "3. When would it make more sense to use the median instead of the mean for the measure of center?"
      ]
    },
    {
      "cell_type": "markdown",
      "source": [
        "2.Not all data are normally distributed\n",
        "3.when the data are skewed, contain outliers, or are ordinal rather than continuous\n",
        "\n",
        "\n"
      ],
      "metadata": {
        "id": "2RaWiRIu0mkC"
      }
    },
    {
      "cell_type": "markdown",
      "metadata": {
        "id": "airLa0NVz_EE"
      },
      "source": [
        "## Exercise 4: Generate the data by running this cell\n",
        "This will give you a list of numbers to work with in the remaining exercises."
      ]
    },
    {
      "cell_type": "code",
      "execution_count": null,
      "metadata": {
        "colab": {
          "base_uri": "https://localhost:8080/"
        },
        "id": "adIKgr29z_EE",
        "outputId": "e31d201b-2ebf-4b53-dc7f-c6dc60cde3bb"
      },
      "outputs": [
        {
          "output_type": "stream",
          "name": "stdout",
          "text": [
            "[844000.0, 758000.0, 421000.0, 259000.0, 511000.0, 405000.0, 784000.0, 303000.0, 477000.0, 583000.0, 908000.0, 505000.0, 282000.0, 756000.0, 618000.0, 251000.0, 910000.0, 983000.0, 810000.0, 902000.0, 310000.0, 730000.0, 899000.0, 684000.0, 472000.0, 101000.0, 434000.0, 611000.0, 913000.0, 967000.0, 477000.0, 865000.0, 260000.0, 805000.0, 549000.0, 14000.0, 720000.0, 399000.0, 825000.0, 668000.0, 1000.0, 494000.0, 868000.0, 244000.0, 325000.0, 870000.0, 191000.0, 568000.0, 239000.0, 968000.0, 803000.0, 448000.0, 80000.0, 320000.0, 508000.0, 933000.0, 109000.0, 551000.0, 707000.0, 547000.0, 814000.0, 540000.0, 964000.0, 603000.0, 588000.0, 445000.0, 596000.0, 385000.0, 576000.0, 290000.0, 189000.0, 187000.0, 613000.0, 657000.0, 477000.0, 90000.0, 758000.0, 877000.0, 923000.0, 842000.0, 898000.0, 923000.0, 541000.0, 391000.0, 705000.0, 276000.0, 812000.0, 849000.0, 895000.0, 590000.0, 950000.0, 580000.0, 451000.0, 660000.0, 996000.0, 917000.0, 793000.0, 82000.0, 613000.0, 486000.0]\n"
          ]
        }
      ],
      "source": [
        "import random\n",
        "random.seed(0)\n",
        "salaries = [round(random.random()*1000000, -3) for _ in range(100)]\n",
        "print(list(salaries))"
      ]
    },
    {
      "cell_type": "markdown",
      "metadata": {
        "id": "RYgHsNk1z_EF"
      },
      "source": [
        "## Exercise 5: Calculating statistics and verifying\n",
        "\n",
        "Use the data generated above to calulate in code the following statistics without importing the statistics module. Then use the statistics module to verify your results.  Import the statistics module from https://docs.python.org/3/library/statistics.html\n",
        "\n",
        "### mean"
      ]
    },
    {
      "cell_type": "code",
      "execution_count": null,
      "metadata": {
        "colab": {
          "base_uri": "https://localhost:8080/"
        },
        "id": "jdnpFXrcz_EF",
        "outputId": "4efd493f-af6f-4737-9866-cf528ccd8c1b"
      },
      "outputs": [
        {
          "output_type": "stream",
          "name": "stdout",
          "text": [
            "585690.0\n"
          ]
        }
      ],
      "source": [
        "import statistics\n",
        "mean_val = statistics.mean(salaries)\n",
        "print(mean_val)"
      ]
    },
    {
      "cell_type": "markdown",
      "metadata": {
        "id": "DYckC8u4z_EF"
      },
      "source": [
        "### median"
      ]
    },
    {
      "cell_type": "code",
      "execution_count": null,
      "metadata": {
        "colab": {
          "base_uri": "https://localhost:8080/"
        },
        "id": "z4PhkI4Gz_EF",
        "outputId": "b68a03e1-0f7f-4a0c-efa0-409a1ad6bd52"
      },
      "outputs": [
        {
          "output_type": "stream",
          "name": "stdout",
          "text": [
            "median :  589000.0\n"
          ]
        }
      ],
      "source": [
        "import statistics\n",
        "median_val = statistics.median(salaries)\n",
        "print(\"median : \", median_val)"
      ]
    },
    {
      "cell_type": "markdown",
      "metadata": {
        "id": "IR5gfjhdz_EF"
      },
      "source": [
        "### mode"
      ]
    },
    {
      "cell_type": "code",
      "execution_count": null,
      "metadata": {
        "colab": {
          "base_uri": "https://localhost:8080/"
        },
        "id": "m_sGAm9Tz_EG",
        "outputId": "398acb54-282e-40e4-f6ba-3068f7c53459"
      },
      "outputs": [
        {
          "output_type": "stream",
          "name": "stdout",
          "text": [
            "mode :  477000.0\n"
          ]
        }
      ],
      "source": [
        "import statistics\n",
        "mode_val = statistics.mode(salaries)\n",
        "print(\"mode : \" , mode_val)"
      ]
    },
    {
      "cell_type": "markdown",
      "metadata": {
        "id": "hi6W-gFjz_EG"
      },
      "source": [
        "### sample variance\n",
        "Remember to use Bessel's correction."
      ]
    },
    {
      "cell_type": "code",
      "execution_count": null,
      "metadata": {
        "colab": {
          "base_uri": "https://localhost:8080/"
        },
        "id": "JVSWQhmZz_EG",
        "outputId": "d868dbda-7d07-47e9-ebc6-83c2799e7500"
      },
      "outputs": [
        {
          "output_type": "stream",
          "name": "stdout",
          "text": [
            "sample variance :  70664054444.44444\n"
          ]
        }
      ],
      "source": [
        "sample_var = statistics.variance(salaries)\n",
        "print(\"sample variance : \" , sample_var)"
      ]
    },
    {
      "cell_type": "markdown",
      "metadata": {
        "id": "yS6YMqVrz_EG"
      },
      "source": [
        "### sample standard deviation\n",
        "Remember to use Bessel's correction."
      ]
    },
    {
      "cell_type": "code",
      "execution_count": null,
      "metadata": {
        "colab": {
          "base_uri": "https://localhost:8080/"
        },
        "id": "cXSdir7Tz_EG",
        "outputId": "0ba8636b-582e-4e00-8de1-043dcee034bc"
      },
      "outputs": [
        {
          "output_type": "stream",
          "name": "stdout",
          "text": [
            "sample standard deviation :  265827.11382484\n"
          ]
        }
      ],
      "source": [
        "sample_std = statistics.stdev(salaries)\n",
        "print(\"sample standard deviation : \" , sample_std)"
      ]
    },
    {
      "cell_type": "markdown",
      "metadata": {
        "id": "c2LmZneSz_EG"
      },
      "source": [
        "## Exercise 6: Calculating more statistics\n",
        "### range"
      ]
    },
    {
      "cell_type": "code",
      "execution_count": null,
      "metadata": {
        "colab": {
          "base_uri": "https://localhost:8080/"
        },
        "id": "2KuQGB-nz_EG",
        "outputId": "1ed4ae3d-54f8-45f4-f033-9a660d3313ce"
      },
      "outputs": [
        {
          "output_type": "stream",
          "name": "stdout",
          "text": [
            "range :  995000.0\n"
          ]
        }
      ],
      "source": [
        "range_val = max(salaries) - min(salaries)\n",
        "print(\"range : \" , range_val)"
      ]
    },
    {
      "cell_type": "markdown",
      "metadata": {
        "id": "Ose4aSAjz_EG"
      },
      "source": [
        "### coefficient of variation"
      ]
    },
    {
      "cell_type": "code",
      "execution_count": null,
      "metadata": {
        "colab": {
          "base_uri": "https://localhost:8080/"
        },
        "id": "OULsSSp8z_EG",
        "outputId": "1f244199-95b3-4bd8-f403-329c86a25a13"
      },
      "outputs": [
        {
          "output_type": "stream",
          "name": "stdout",
          "text": [
            "coefficient of variation :  0.45386998894439035\n"
          ]
        }
      ],
      "source": [
        "import statistics\n",
        "\n",
        "# Calculate the coefficient of variation\n",
        "# CV = (Standard Deviation / Mean)\n",
        "coefficient_of_variation = statistics.stdev(salaries) / statistics.mean(salaries)\n",
        "\n",
        "print(\"coefficient of variation : \" , coefficient_of_variation)"
      ]
    },
    {
      "cell_type": "markdown",
      "metadata": {
        "id": "E6g_kas-z_EG"
      },
      "source": [
        "### interquartile range"
      ]
    },
    {
      "cell_type": "code",
      "source": [
        "import numpy as np\n",
        "\n",
        "# Calculate the 25th and 75th percentiles (Q1 and Q3)\n",
        "q1 = np.percentile(salaries, 25)\n",
        "q3 = np.percentile(salaries, 75)\n",
        "\n",
        "# Calculate the interquartile range\n",
        "iqr = q3 - q1\n",
        "\n",
        "print(\"Interquartile range:\", iqr)"
      ],
      "metadata": {
        "colab": {
          "base_uri": "https://localhost:8080/"
        },
        "id": "TKmUXPp_91FK",
        "outputId": "34121cbb-5cd3-4ac5-fa36-a64c53c66dd7"
      },
      "execution_count": null,
      "outputs": [
        {
          "output_type": "stream",
          "name": "stdout",
          "text": [
            "Interquartile range: 413250.0\n"
          ]
        }
      ]
    },
    {
      "cell_type": "markdown",
      "metadata": {
        "id": "OZlm3kSez_EG"
      },
      "source": [
        "### quartile coefficent of dispersion"
      ]
    },
    {
      "cell_type": "code",
      "execution_count": null,
      "metadata": {
        "colab": {
          "base_uri": "https://localhost:8080/"
        },
        "id": "XO0TTTLyz_EG",
        "outputId": "d685b71b-a4f8-4a46-d506-a532e219c986"
      },
      "outputs": [
        {
          "output_type": "stream",
          "name": "stdout",
          "text": [
            "quartile coefficent of dispersion :  0.338660110633067\n"
          ]
        }
      ],
      "source": [
        "# Calculate the quartile coefficient of dispersion\n",
        "# QCD = (Q3 - Q1) / (Q3 + Q1)\n",
        "quartile_coefficient_of_dispersion = (q3 - q1) / (q3 + q1)\n",
        "\n",
        "print(\"quartile coefficent of dispersion : \", quartile_coefficient_of_dispersion)"
      ]
    },
    {
      "cell_type": "markdown",
      "metadata": {
        "id": "NIi2dfgiz_EG"
      },
      "source": [
        "## Exercise 7: Scaling data\n",
        "### min-max scaling"
      ]
    },
    {
      "cell_type": "code",
      "execution_count": null,
      "metadata": {
        "colab": {
          "base_uri": "https://localhost:8080/"
        },
        "id": "37Y33b-6z_EG",
        "outputId": "8552e61f-1deb-4a07-f5e2-8fa0dc827f78"
      },
      "outputs": [
        {
          "output_type": "stream",
          "name": "stdout",
          "text": [
            "Original Salaries: [844000.0, 758000.0, 421000.0, 259000.0, 511000.0, 405000.0, 784000.0, 303000.0, 477000.0, 583000.0]\n",
            "Min-Max Scaled Salaries: [0.8472361809045226, 0.7608040201005025, 0.4221105527638191, 0.2592964824120603, 0.5125628140703518, 0.40603015075376886, 0.7869346733668342, 0.3035175879396985, 0.47839195979899496, 0.5849246231155779]\n"
          ]
        }
      ],
      "source": [
        "# Min-Max Scaling\n",
        "min_salary = min(salaries)\n",
        "max_salary = max(salaries)\n",
        "\n",
        "min_max_scaled_salaries = [(x - min_salary) / (max_salary - min_salary) for x in salaries]\n",
        "\n",
        "print(\"Original Salaries:\", salaries[:10]) # Print first 10 for brevity\n",
        "print(\"Min-Max Scaled Salaries:\", min_max_scaled_salaries[:10]) # Print first 10"
      ]
    },
    {
      "cell_type": "markdown",
      "metadata": {
        "id": "1utVo7Psz_EG"
      },
      "source": [
        "### standardizing"
      ]
    },
    {
      "cell_type": "code",
      "execution_count": null,
      "metadata": {
        "colab": {
          "base_uri": "https://localhost:8080/"
        },
        "id": "B5qaWeePz_EG",
        "outputId": "f50eae2f-9264-499a-f69d-fbc5e02a65b9"
      },
      "outputs": [
        {
          "output_type": "stream",
          "name": "stdout",
          "text": [
            "Original Salaries: [844000.0, 758000.0, 421000.0, 259000.0, 511000.0, 405000.0, 784000.0, 303000.0, 477000.0, 583000.0]\n",
            "Standardized Salaries: [0.9717217942267801, 0.6482032533127501, -0.6195380058503674, -1.228956652688424, -0.28097209094033604, -0.6797275018343729, 0.7460111842867592, -1.0634355387324086, -0.40887476990634786, -0.010119359012310937]\n"
          ]
        }
      ],
      "source": [
        "import statistics\n",
        "\n",
        "# Standardizing (Z-score normalization)\n",
        "mean_salary = statistics.mean(salaries)\n",
        "std_salary = statistics.stdev(salaries)\n",
        "\n",
        "standardized_salaries = [(x - mean_salary) / std_salary for x in salaries]\n",
        "\n",
        "print(\"Original Salaries:\", salaries[:10]) # Print first 10 for brevity\n",
        "print(\"Standardized Salaries:\", standardized_salaries[:10]) # Print first 10"
      ]
    },
    {
      "cell_type": "markdown",
      "metadata": {
        "id": "TO18dBXmz_EG"
      },
      "source": [
        "## Exercise 8: Calculating covariance and correlation\n",
        "### covariance"
      ]
    },
    {
      "cell_type": "code",
      "execution_count": null,
      "metadata": {
        "colab": {
          "base_uri": "https://localhost:8080/"
        },
        "id": "m6oUn2XCz_EH",
        "outputId": "3f16f886-c20c-46ca-fd74-ad6e0155ce1f"
      },
      "outputs": [
        {
          "output_type": "stream",
          "name": "stdout",
          "text": [
            "Salaries (first 10): [844000.0, 758000.0, 421000.0, 259000.0, 511000.0, 405000.0, 784000.0, 303000.0, 477000.0, 583000.0]\n",
            "Years of Experience (first 10): [5, 19, 28, 26, 25, 3, 9, 4, 16, 25]\n",
            "Covariance: -501674.1414141422\n"
          ]
        }
      ],
      "source": [
        "import numpy as np\n",
        "import random\n",
        "\n",
        "# Generate a new list\n",
        "random.seed(1) # Use a different seed for the new list\n",
        "years_of_experience = [random.randint(1, 30) for _ in range(len(salaries))]\n",
        "\n",
        "# Calculate the covariance between salaries and years of experience\n",
        "covariance = np.cov(salaries, years_of_experience)[0][1]\n",
        "\n",
        "print(\"Salaries (first 10):\", salaries[:10])\n",
        "print(\"Years of Experience (first 10):\", years_of_experience[:10])\n",
        "print(\"Covariance:\", covariance)"
      ]
    },
    {
      "cell_type": "markdown",
      "metadata": {
        "id": "ocP0tAZWz_EH"
      },
      "source": [
        "### Pearson correlation coefficient ($\\rho$)"
      ]
    },
    {
      "cell_type": "code",
      "execution_count": null,
      "metadata": {
        "colab": {
          "base_uri": "https://localhost:8080/"
        },
        "id": "IZQm7QQmz_EH",
        "outputId": "22d722a2-166c-4015-e8c1-c729ee58feb8"
      },
      "outputs": [
        {
          "output_type": "stream",
          "name": "stdout",
          "text": [
            "Pearson correlation coefficient (ρ): -0.21117308378685093\n"
          ]
        }
      ],
      "source": [
        "import numpy as np\n",
        "\n",
        "# Calculate the Pearson correlation coefficient\n",
        "pearson_corr_matrix = np.corrcoef(salaries, years_of_experience)\n",
        "\n",
        "print(\"Pearson correlation coefficient (ρ):\", pearson_corr_matrix[0, 1])"
      ]
    }
  ],
  "metadata": {
    "kernelspec": {
      "display_name": "Python 3 (ipykernel)",
      "language": "python",
      "name": "python3"
    },
    "language_info": {
      "codemirror_mode": {
        "name": "ipython",
        "version": 3
      },
      "file_extension": ".py",
      "mimetype": "text/x-python",
      "name": "python",
      "nbconvert_exporter": "python",
      "pygments_lexer": "ipython3",
      "version": "3.9.16"
    },
    "colab": {
      "provenance": [],
      "include_colab_link": true
    }
  },
  "nbformat": 4,
  "nbformat_minor": 0
}