{
  "nbformat": 4,
  "nbformat_minor": 0,
  "metadata": {
    "colab": {
      "provenance": [],
      "include_colab_link": true
    },
    "kernelspec": {
      "name": "python3",
      "display_name": "Python 3"
    },
    "language_info": {
      "name": "python"
    }
  },
  "cells": [
    {
      "cell_type": "markdown",
      "metadata": {
        "id": "view-in-github",
        "colab_type": "text"
      },
      "source": [
        "<a href=\"https://colab.research.google.com/github/MarrinXia/MSSP-607/blob/main/Participation_Activity_Week_3.ipynb\" target=\"_parent\"><img src=\"https://colab.research.google.com/assets/colab-badge.svg\" alt=\"Open In Colab\"/></a>"
      ]
    },
    {
      "cell_type": "markdown",
      "source": [
        "a. When does the code in a function execute: when the function is defined or called?\n",
        "\n",
        "b. How many global scopes are there in a Python program? How many local scopes?\n",
        "\n",
        "c. What happens to variables in a local scope when the function call returns?\n",
        "\n",
        "d. How can you prevent a program from crashing when it gets an error?"
      ],
      "metadata": {
        "id": "ClWa4cYZozNQ"
      }
    },
    {
      "cell_type": "code",
      "execution_count": 1,
      "metadata": {
        "colab": {
          "base_uri": "https://localhost:8080/"
        },
        "id": "973f0a1f",
        "outputId": "158ee23d-b6a0-483b-aa8d-e3845a6a4abb"
      },
      "outputs": [
        {
          "output_type": "stream",
          "name": "stdout",
          "text": [
            "No output from demo yet — we have only defined it.\n",
            "Function body is executing (only happens when demo() is called).\n"
          ]
        }
      ],
      "source": [
        "#3(a) Demonstration: function body runs only when called\n",
        "\n",
        "def demo():\n",
        "    # This line will NOT run at definition time.\n",
        "    print(\"Function body is executing (only happens when demo() is called).\")\n",
        "\n",
        "# At this point, nothing prints yet because we only defined the function.\n",
        "print(\"No output from demo yet — we have only defined it.\")\n",
        "\n",
        "# Now call the function to execute its body:\n",
        "demo()"
      ]
    },
    {
      "cell_type": "code",
      "source": [
        "# (b)Global scope: There is 1 global scope per Python program\n",
        "# Local scopes: There can be many local scopes (one for each function call)\n",
        "# Global scope demonstration\n",
        "global_variable = \"I'm in the global scope\"  # This is in the global scope\n",
        "\n",
        "def function1():\n",
        "    # This creates a local scope for function1\n",
        "    local_var1 = \"I'm in function1's local scope\"\n",
        "    print(f\"Function1: {local_var1}\")\n",
        "    print(f\"Function1 can access global: {global_variable}\")\n",
        "\n",
        "def function2():\n",
        "    # This creates another local scope for function2\n",
        "    local_var2 = \"I'm in function2's local scope\"\n",
        "    print(f\"Function2: {local_var2}\")\n",
        "    print(f\"Function2 can access global: {global_variable}\")\n",
        "\n",
        "# Calling functions creates their local scopes\n",
        "function1()\n",
        "function2()\n",
        "\n",
        "print(f\"Global scope: {global_variable}\")\n",
        "# print(local_var1)  # This would cause an error - local variables not accessible"
      ],
      "metadata": {
        "colab": {
          "base_uri": "https://localhost:8080/"
        },
        "id": "FN9S6GL-qR8X",
        "outputId": "a363f9fa-c4cb-455a-bda4-acf3939638b0"
      },
      "execution_count": 2,
      "outputs": [
        {
          "output_type": "stream",
          "name": "stdout",
          "text": [
            "Function1: I'm in function1's local scope\n",
            "Function1 can access global: I'm in the global scope\n",
            "Function2: I'm in function2's local scope\n",
            "Function2 can access global: I'm in the global scope\n",
            "Global scope: I'm in the global scope\n"
          ]
        }
      ]
    },
    {
      "cell_type": "code",
      "source": [
        "#(c)Variables in a local scope are destroyed when the function call returns.\n",
        "\n",
        "def demonstrate_local_scope():\n",
        "    local_variable = \"I exist only during function execution\"\n",
        "    print(f\"Inside function: {local_variable}\")\n",
        "    return \"Function is about to end\"\n",
        "\n",
        "# Call the function\n",
        "result = demonstrate_local_scope()\n",
        "print(f\"Function returned: {result}\")\n",
        "\n",
        "# Try to access the local variable (this will cause an error if uncommented)\n",
        "# print(local_variable)  # NameError: name 'local_variable' is not defined\n",
        "\n",
        "print(\"The local_variable no longer exists after the function returns\")"
      ],
      "metadata": {
        "colab": {
          "base_uri": "https://localhost:8080/"
        },
        "id": "8XWg_PrQrEgU",
        "outputId": "78c8d3e7-1a4f-40dd-f06d-4e76ced196a2"
      },
      "execution_count": 3,
      "outputs": [
        {
          "output_type": "stream",
          "name": "stdout",
          "text": [
            "Inside function: I exist only during function execution\n",
            "Function returned: Function is about to end\n",
            "The local_variable no longer exists after the function returns\n"
          ]
        }
      ]
    },
    {
      "cell_type": "code",
      "source": [
        "# (d)Use try/except blocks to handle errors gracefully.\n",
        "# Example of error handling to prevent crashes\n",
        "\n",
        "def safe_division(a, b):\n",
        "    \"\"\"Safely divide two numbers without crashing on division by zero\"\"\"\n",
        "    try:\n",
        "        result = a / b\n",
        "        return result\n",
        "    except ZeroDivisionError:\n",
        "        print(\"Error: Cannot divide by zero!\")\n",
        "        return None\n",
        "    except TypeError:\n",
        "        print(\"Error: Please provide numbers only!\")\n",
        "        return None\n",
        "\n",
        "# Test the safe division function\n",
        "print(\"Testing safe division:\")\n",
        "print(f\"10 / 2 = {safe_division(10, 2)}\")\n",
        "print(f\"10 / 0 = {safe_division(10, 0)}\")  # Won't crash\n",
        "print(f\"10 / 'hello' = {safe_division(10, 'hello')}\")  # Won't crash\n",
        "\n",
        "# Example of handling file operations\n",
        "try:\n",
        "    with open(\"nonexistent_file.txt\", \"r\") as file:\n",
        "        content = file.read()\n",
        "except FileNotFoundError:\n",
        "    print(\"File not found, but program continues running!\")\n"
      ],
      "metadata": {
        "colab": {
          "base_uri": "https://localhost:8080/"
        },
        "id": "BaZtkl9Ir0hM",
        "outputId": "44bab465-ec5f-486f-b207-fb34892e2144"
      },
      "execution_count": 4,
      "outputs": [
        {
          "output_type": "stream",
          "name": "stdout",
          "text": [
            "Testing safe division:\n",
            "10 / 2 = 5.0\n",
            "Error: Cannot divide by zero!\n",
            "10 / 0 = None\n",
            "Error: Please provide numbers only!\n",
            "10 / 'hello' = None\n",
            "File not found, but program continues running!\n"
          ]
        }
      ]
    },
    {
      "cell_type": "markdown",
      "source": [
        "Practice Questions\n",
        "  1.  What keys can you press if your Python program is stuck in an infinite loop?\n",
        "\n",
        "  2.  What is the difference between break and continue?\n",
        "\n",
        "  3.  What is the difference between range(10), range(0, 10), and range(0, 10, 1) in a for loop?\n",
        "\n",
        "  4.  Write a short program that prints the numbers 1 to 10 using a for loop. Then, write an equivalent program that prints the numbers 1 to 10 using a while loop.\n",
        "\n",
        "  5.  If you had a function named bacon() inside a module named spam, how would you call it after importing spam?"
      ],
      "metadata": {
        "id": "1wBad6gItQOD"
      }
    },
    {
      "cell_type": "code",
      "source": [
        "#1\n",
        "print(\"Use Ctrl+C to stop infinite loops!\")"
      ],
      "metadata": {
        "colab": {
          "base_uri": "https://localhost:8080/"
        },
        "id": "abGKvFUvtSF8",
        "outputId": "f5a27772-3742-4a9f-9498-383c42d209f4"
      },
      "execution_count": 5,
      "outputs": [
        {
          "output_type": "stream",
          "name": "stdout",
          "text": [
            "Use Ctrl+C to stop infinite loops!\n"
          ]
        }
      ]
    },
    {
      "cell_type": "code",
      "source": [
        "#2\"break\" \"exits\" the nearest enclosing loop entirely.\n",
        "#\"continue\" \" skips the rest of the current iteration \"  and proceeds to the next iteration of the loop."
      ],
      "metadata": {
        "id": "QpFOov8gtyg9"
      },
      "execution_count": 6,
      "outputs": []
    },
    {
      "cell_type": "code",
      "source": [
        "#3print(\"range(10):\")\n",
        "for i in range(10):\n",
        "    print(i, end=\" \")\n",
        "print()\n",
        "\n",
        "print(\"\\nrange(0, 10):\")\n",
        "for i in range(0, 10):\n",
        "    print(i, end=\" \")\n",
        "print()\n",
        "\n",
        "print(\"\\nrange(0, 10, 1):\")\n",
        "for i in range(0, 10, 1):\n",
        "    print(i, end=\" \")\n",
        "print()\n",
        "\n",
        "print(\"\\nAll three are equivalent! They all produce: 0 1 2 3 4 5 6 7 8 9\")"
      ],
      "metadata": {
        "colab": {
          "base_uri": "https://localhost:8080/"
        },
        "id": "WeCuEeNXt0LK",
        "outputId": "d72cbf91-e496-47fe-9bf3-ad2c43fa74c6"
      },
      "execution_count": 7,
      "outputs": [
        {
          "output_type": "stream",
          "name": "stdout",
          "text": [
            "0 1 2 3 4 5 6 7 8 9 \n",
            "\n",
            "range(0, 10):\n",
            "0 1 2 3 4 5 6 7 8 9 \n",
            "\n",
            "range(0, 10, 1):\n",
            "0 1 2 3 4 5 6 7 8 9 \n",
            "\n",
            "All three are equivalent! They all produce: 0 1 2 3 4 5 6 7 8 9\n"
          ]
        }
      ]
    },
    {
      "cell_type": "code",
      "source": [
        "#4\n",
        "print(\"Using for loop:\")\n",
        "for i in range(1, 11):  # range(1, 11) gives us 1 through 10\n",
        "    print(i, end=\" \")\n",
        "print()\n",
        "\n",
        "print(\"\\nUsing while loop:\")\n",
        "i = 1\n",
        "while i <= 10:\n",
        "    print(i, end=\" \")\n",
        "    i += 1  # Don't forget to increment!\n",
        "print()"
      ],
      "metadata": {
        "colab": {
          "base_uri": "https://localhost:8080/"
        },
        "id": "mfWdDJ2Jt12Q",
        "outputId": "782180ec-02c5-4d42-c077-52ac24945342"
      },
      "execution_count": 8,
      "outputs": [
        {
          "output_type": "stream",
          "name": "stdout",
          "text": [
            "Using for loop:\n",
            "1 2 3 4 5 6 7 8 9 10 \n",
            "\n",
            "Using while loop:\n",
            "1 2 3 4 5 6 7 8 9 10 \n"
          ]
        }
      ]
    },
    {
      "cell_type": "code",
      "source": [
        "#5\n",
        "def bacon():\n",
        "    print(\"This is the bacon function.\")\n",
        "print(\"Demonstrating calling the function directly:\")\n",
        "bacon()\n"
      ],
      "metadata": {
        "colab": {
          "base_uri": "https://localhost:8080/"
        },
        "id": "8aXz--jft4gr",
        "outputId": "eb2b8ab5-ef8a-41e7-a6b4-9780541578e2"
      },
      "execution_count": 9,
      "outputs": [
        {
          "output_type": "stream",
          "name": "stdout",
          "text": [
            "Demonstrating calling the function directly:\n",
            "This is the bacon function.\n"
          ]
        }
      ]
    }
  ]
}